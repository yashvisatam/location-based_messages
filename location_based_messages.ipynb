{
  "nbformat": 4,
  "nbformat_minor": 0,
  "metadata": {
    "colab": {
      "provenance": [],
      "include_colab_link": true
    },
    "kernelspec": {
      "name": "python3",
      "display_name": "Python 3"
    },
    "language_info": {
      "name": "python"
    }
  },
  "cells": [
    {
      "cell_type": "markdown",
      "metadata": {
        "id": "view-in-github",
        "colab_type": "text"
      },
      "source": [
        "<a href=\"https://colab.research.google.com/github/yashvisatam/location-based_messages/blob/main/location_based_messages.ipynb\" target=\"_parent\"><img src=\"https://colab.research.google.com/assets/colab-badge.svg\" alt=\"Open In Colab\"/></a>"
      ]
    },
    {
      "cell_type": "code",
      "source": [
        "import requests\n",
        "import urllib.parse\n",
        "\n",
        "address = input(\"Enter your location : \")\n",
        "url = 'https://nominatim.openstreetmap.org/search/' + urllib.parse.quote(address) +'?format=json'\n",
        "\n",
        "response = requests.get(url).json()\n",
        "lat = response[0][\"lat\"]\n",
        "lon = response[0][\"lon\"]\n",
        "print(\"Latitude: \", lat)\n",
        "print(\"Longitude: \",lon)"
      ],
      "metadata": {
        "colab": {
          "base_uri": "https://localhost:8080/"
        },
        "id": "4q7e0jFTzgIx",
        "outputId": "13c4584e-4bc7-474f-f13c-64ce3b01d94d"
      },
      "execution_count": null,
      "outputs": [
        {
          "output_type": "stream",
          "name": "stdout",
          "text": [
            "Enter your location : Dwarkadas J. Sanghvi College of Engineering\n",
            "Latitude:  19.10741555\n",
            "Longitude:  72.83717139007818\n"
          ]
        }
      ]
    },
    {
      "cell_type": "code",
      "source": [
        "import folium\n",
        "\n",
        "m = folium.Map(location=[lat,lon])"
      ],
      "metadata": {
        "id": "-ImEZ3x0y_jm"
      },
      "execution_count": null,
      "outputs": []
    },
    {
      "cell_type": "code",
      "source": [
        "tooltip = \"Your location\"\n",
        "\n",
        "folium.Marker(\n",
        "    [lat, lon], popup=\"My location\", tooltip=tooltip\n",
        ").add_to(m)"
      ],
      "metadata": {
        "colab": {
          "base_uri": "https://localhost:8080/"
        },
        "id": "JxQ81X8t03bw",
        "outputId": "0a18c2b8-9ef5-43ad-8ce7-e8bc1bc85293"
      },
      "execution_count": null,
      "outputs": [
        {
          "output_type": "execute_result",
          "data": {
            "text/plain": [
              "<folium.map.Marker at 0x7f97af81e940>"
            ]
          },
          "metadata": {},
          "execution_count": 368
        }
      ]
    },
    {
      "cell_type": "code",
      "source": [
        "add = [ \"dr cooper hospital, parle west\", \"sunflower nursing home, parle west\", \"iris eye center, parle west\", \"DR sanjay soni dental clinic, parle west\"]"
      ],
      "metadata": {
        "id": "x5m83O7x8D28"
      },
      "execution_count": null,
      "outputs": []
    },
    {
      "cell_type": "code",
      "source": [
        "for i in range(len(add)):\n",
        "  address = add[i]\n",
        "  url = 'https://nominatim.openstreetmap.org/search/' + urllib.parse.quote(address) +'?format=json'\n",
        "\n",
        "  response = requests.get(url).json()\n",
        "  lat1 = response[0][\"lat\"]\n",
        "  lon1 = response[0][\"lon\"]\n",
        "  print(lat1)\n",
        "  print(lon1)\n",
        "  folium.Marker([lat1, lon1], icon=folium.Icon(color=\"red\")).add_to(m)"
      ],
      "metadata": {
        "colab": {
          "base_uri": "https://localhost:8080/"
        },
        "id": "RRHF3Waw8VLD",
        "outputId": "56e63245-16d4-4d06-b073-8639ed4e69bd"
      },
      "execution_count": null,
      "outputs": [
        {
          "output_type": "stream",
          "name": "stdout",
          "text": [
            "19.107748450000003\n",
            "72.8357196523312\n",
            "19.1059989\n",
            "72.8344867\n",
            "19.1069728\n",
            "72.8358773\n",
            "19.1069165\n",
            "72.8356406\n"
          ]
        }
      ]
    },
    {
      "cell_type": "code",
      "source": [
        "m"
      ],
      "metadata": {
        "colab": {
          "base_uri": "https://localhost:8080/",
          "height": 968
        },
        "id": "i5GvP3Niy6cH",
        "outputId": "79fbc8fa-fd1d-42f4-d725-596038f1e7a7"
      },
      "execution_count": null,
      "outputs": [
        {
          "output_type": "execute_result",
          "data": {
            "text/plain": [
              "<folium.folium.Map at 0x7f97af7679a0>"
            ],
            "text/html": [
              "<div style=\"width:100%;\"><div style=\"position:relative;width:100%;height:0;padding-bottom:60%;\"><span style=\"color:#565656\">Make this Notebook Trusted to load map: File -> Trust Notebook</span><iframe srcdoc=\"&lt;!DOCTYPE html&gt;\n",
              "&lt;html&gt;\n",
              "&lt;head&gt;\n",
              "    \n",
              "    &lt;meta http-equiv=&quot;content-type&quot; content=&quot;text/html; charset=UTF-8&quot; /&gt;\n",
              "    \n",
              "        &lt;script&gt;\n",
              "            L_NO_TOUCH = false;\n",
              "            L_DISABLE_3D = false;\n",
              "        &lt;/script&gt;\n",
              "    \n",
              "    &lt;style&gt;html, body {width: 100%;height: 100%;margin: 0;padding: 0;}&lt;/style&gt;\n",
              "    &lt;style&gt;#map {position:absolute;top:0;bottom:0;right:0;left:0;}&lt;/style&gt;\n",
              "    &lt;script src=&quot;https://cdn.jsdelivr.net/npm/leaflet@1.9.3/dist/leaflet.js&quot;&gt;&lt;/script&gt;\n",
              "    &lt;script src=&quot;https://code.jquery.com/jquery-1.12.4.min.js&quot;&gt;&lt;/script&gt;\n",
              "    &lt;script src=&quot;https://cdn.jsdelivr.net/npm/bootstrap@5.2.2/dist/js/bootstrap.bundle.min.js&quot;&gt;&lt;/script&gt;\n",
              "    &lt;script src=&quot;https://cdnjs.cloudflare.com/ajax/libs/Leaflet.awesome-markers/2.0.2/leaflet.awesome-markers.js&quot;&gt;&lt;/script&gt;\n",
              "    &lt;link rel=&quot;stylesheet&quot; href=&quot;https://cdn.jsdelivr.net/npm/leaflet@1.9.3/dist/leaflet.css&quot;/&gt;\n",
              "    &lt;link rel=&quot;stylesheet&quot; href=&quot;https://cdn.jsdelivr.net/npm/bootstrap@5.2.2/dist/css/bootstrap.min.css&quot;/&gt;\n",
              "    &lt;link rel=&quot;stylesheet&quot; href=&quot;https://netdna.bootstrapcdn.com/bootstrap/3.0.0/css/bootstrap.min.css&quot;/&gt;\n",
              "    &lt;link rel=&quot;stylesheet&quot; href=&quot;https://cdn.jsdelivr.net/npm/@fortawesome/fontawesome-free@6.2.0/css/all.min.css&quot;/&gt;\n",
              "    &lt;link rel=&quot;stylesheet&quot; href=&quot;https://cdnjs.cloudflare.com/ajax/libs/Leaflet.awesome-markers/2.0.2/leaflet.awesome-markers.css&quot;/&gt;\n",
              "    &lt;link rel=&quot;stylesheet&quot; href=&quot;https://cdn.jsdelivr.net/gh/python-visualization/folium/folium/templates/leaflet.awesome.rotate.min.css&quot;/&gt;\n",
              "    \n",
              "            &lt;meta name=&quot;viewport&quot; content=&quot;width=device-width,\n",
              "                initial-scale=1.0, maximum-scale=1.0, user-scalable=no&quot; /&gt;\n",
              "            &lt;style&gt;\n",
              "                #map_31e4a36ae84b91f39698a6cae0f4faa1 {\n",
              "                    position: relative;\n",
              "                    width: 100.0%;\n",
              "                    height: 100.0%;\n",
              "                    left: 0.0%;\n",
              "                    top: 0.0%;\n",
              "                }\n",
              "                .leaflet-container { font-size: 1rem; }\n",
              "            &lt;/style&gt;\n",
              "        \n",
              "&lt;/head&gt;\n",
              "&lt;body&gt;\n",
              "    \n",
              "    \n",
              "            &lt;div class=&quot;folium-map&quot; id=&quot;map_31e4a36ae84b91f39698a6cae0f4faa1&quot; &gt;&lt;/div&gt;\n",
              "        \n",
              "&lt;/body&gt;\n",
              "&lt;script&gt;\n",
              "    \n",
              "    \n",
              "            var map_31e4a36ae84b91f39698a6cae0f4faa1 = L.map(\n",
              "                &quot;map_31e4a36ae84b91f39698a6cae0f4faa1&quot;,\n",
              "                {\n",
              "                    center: [19.10741555, 72.83717139007818],\n",
              "                    crs: L.CRS.EPSG3857,\n",
              "                    zoom: 10,\n",
              "                    zoomControl: true,\n",
              "                    preferCanvas: false,\n",
              "                }\n",
              "            );\n",
              "\n",
              "            \n",
              "\n",
              "        \n",
              "    \n",
              "            var tile_layer_4a04d15659ef70bff861b53e7e678188 = L.tileLayer(\n",
              "                &quot;https://{s}.tile.openstreetmap.org/{z}/{x}/{y}.png&quot;,\n",
              "                {&quot;attribution&quot;: &quot;Data by \\u0026copy; \\u003ca target=\\&quot;_blank\\&quot; href=\\&quot;http://openstreetmap.org\\&quot;\\u003eOpenStreetMap\\u003c/a\\u003e, under \\u003ca target=\\&quot;_blank\\&quot; href=\\&quot;http://www.openstreetmap.org/copyright\\&quot;\\u003eODbL\\u003c/a\\u003e.&quot;, &quot;detectRetina&quot;: false, &quot;maxNativeZoom&quot;: 18, &quot;maxZoom&quot;: 18, &quot;minZoom&quot;: 0, &quot;noWrap&quot;: false, &quot;opacity&quot;: 1, &quot;subdomains&quot;: &quot;abc&quot;, &quot;tms&quot;: false}\n",
              "            ).addTo(map_31e4a36ae84b91f39698a6cae0f4faa1);\n",
              "        \n",
              "    \n",
              "            var marker_14153eda259a751b3eb2294b579d8e9f = L.marker(\n",
              "                [19.10741555, 72.83717139007818],\n",
              "                {}\n",
              "            ).addTo(map_31e4a36ae84b91f39698a6cae0f4faa1);\n",
              "        \n",
              "    \n",
              "        var popup_d1df2aed785cfe96881136c3dd5a6cfc = L.popup({&quot;maxWidth&quot;: &quot;100%&quot;});\n",
              "\n",
              "        \n",
              "            \n",
              "                var html_ab832c2d69646522e71d9bd42e9ccd1a = $(`&lt;div id=&quot;html_ab832c2d69646522e71d9bd42e9ccd1a&quot; style=&quot;width: 100.0%; height: 100.0%;&quot;&gt;My location&lt;/div&gt;`)[0];\n",
              "                popup_d1df2aed785cfe96881136c3dd5a6cfc.setContent(html_ab832c2d69646522e71d9bd42e9ccd1a);\n",
              "            \n",
              "        \n",
              "\n",
              "        marker_14153eda259a751b3eb2294b579d8e9f.bindPopup(popup_d1df2aed785cfe96881136c3dd5a6cfc)\n",
              "        ;\n",
              "\n",
              "        \n",
              "    \n",
              "    \n",
              "            marker_14153eda259a751b3eb2294b579d8e9f.bindTooltip(\n",
              "                `&lt;div&gt;\n",
              "                     DJ Sanghvi\n",
              "                 &lt;/div&gt;`,\n",
              "                {&quot;sticky&quot;: true}\n",
              "            );\n",
              "        \n",
              "    \n",
              "            var marker_1b3d69b2dc0a8f958920862d81a9f096 = L.marker(\n",
              "                [19.107748450000003, 72.8357196523312],\n",
              "                {}\n",
              "            ).addTo(map_31e4a36ae84b91f39698a6cae0f4faa1);\n",
              "        \n",
              "    \n",
              "            var icon_02b27cce6deca78da309f071f8335ed7 = L.AwesomeMarkers.icon(\n",
              "                {&quot;extraClasses&quot;: &quot;fa-rotate-0&quot;, &quot;icon&quot;: &quot;info-sign&quot;, &quot;iconColor&quot;: &quot;white&quot;, &quot;markerColor&quot;: &quot;red&quot;, &quot;prefix&quot;: &quot;glyphicon&quot;}\n",
              "            );\n",
              "            marker_1b3d69b2dc0a8f958920862d81a9f096.setIcon(icon_02b27cce6deca78da309f071f8335ed7);\n",
              "        \n",
              "    \n",
              "            var marker_b3230ef30d382b30deb318e3ea86b7bb = L.marker(\n",
              "                [19.1059989, 72.8344867],\n",
              "                {}\n",
              "            ).addTo(map_31e4a36ae84b91f39698a6cae0f4faa1);\n",
              "        \n",
              "    \n",
              "            var icon_cad929726d1d9ac3aaad8d3872321272 = L.AwesomeMarkers.icon(\n",
              "                {&quot;extraClasses&quot;: &quot;fa-rotate-0&quot;, &quot;icon&quot;: &quot;info-sign&quot;, &quot;iconColor&quot;: &quot;white&quot;, &quot;markerColor&quot;: &quot;red&quot;, &quot;prefix&quot;: &quot;glyphicon&quot;}\n",
              "            );\n",
              "            marker_b3230ef30d382b30deb318e3ea86b7bb.setIcon(icon_cad929726d1d9ac3aaad8d3872321272);\n",
              "        \n",
              "    \n",
              "            var marker_3e100860860b3d49b05db2a76930e427 = L.marker(\n",
              "                [19.1069728, 72.8358773],\n",
              "                {}\n",
              "            ).addTo(map_31e4a36ae84b91f39698a6cae0f4faa1);\n",
              "        \n",
              "    \n",
              "            var icon_d1a2f084282f65b2ceb16087b9ad26f7 = L.AwesomeMarkers.icon(\n",
              "                {&quot;extraClasses&quot;: &quot;fa-rotate-0&quot;, &quot;icon&quot;: &quot;info-sign&quot;, &quot;iconColor&quot;: &quot;white&quot;, &quot;markerColor&quot;: &quot;red&quot;, &quot;prefix&quot;: &quot;glyphicon&quot;}\n",
              "            );\n",
              "            marker_3e100860860b3d49b05db2a76930e427.setIcon(icon_d1a2f084282f65b2ceb16087b9ad26f7);\n",
              "        \n",
              "    \n",
              "            var marker_d8775b75aafb6b207908a40f617d6c85 = L.marker(\n",
              "                [19.1069165, 72.8356406],\n",
              "                {}\n",
              "            ).addTo(map_31e4a36ae84b91f39698a6cae0f4faa1);\n",
              "        \n",
              "    \n",
              "            var icon_596664d796a37f3ea20efa27d8a7b3d0 = L.AwesomeMarkers.icon(\n",
              "                {&quot;extraClasses&quot;: &quot;fa-rotate-0&quot;, &quot;icon&quot;: &quot;info-sign&quot;, &quot;iconColor&quot;: &quot;white&quot;, &quot;markerColor&quot;: &quot;red&quot;, &quot;prefix&quot;: &quot;glyphicon&quot;}\n",
              "            );\n",
              "            marker_d8775b75aafb6b207908a40f617d6c85.setIcon(icon_596664d796a37f3ea20efa27d8a7b3d0);\n",
              "        \n",
              "&lt;/script&gt;\n",
              "&lt;/html&gt;\" style=\"position:absolute;width:100%;height:100%;left:0;top:0;border:none !important;\" allowfullscreen webkitallowfullscreen mozallowfullscreen></iframe></div></div>"
            ]
          },
          "metadata": {},
          "execution_count": 348
        }
      ]
    }
  ]
}